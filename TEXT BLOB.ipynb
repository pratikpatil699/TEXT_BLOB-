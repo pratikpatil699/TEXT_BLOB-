{
 "cells": [
  {
   "cell_type": "markdown",
   "metadata": {},
   "source": [
    "# TEXT BLOB \n",
    "\n",
    "\n",
    "# PRATIK PATIL "
   ]
  },
  {
   "cell_type": "code",
   "execution_count": 59,
   "metadata": {},
   "outputs": [],
   "source": [
    "from textblob import TextBlob                    #importing library "
   ]
  },
  {
   "cell_type": "code",
   "execution_count": 60,
   "metadata": {},
   "outputs": [],
   "source": [
    "text = '''                                       \n",
    "Sentiment analysis is the interpretation and classification of emotions (positive, negative and neutral) within text \n",
    "data using text analysis techniques. Sentiment analysis allows \n",
    "businesses to identify customer sentiment toward products, brands or services in online conversations and feedback.\n",
    "'''\n",
    "blob = TextBlob(text)                           #creating a text blob "
   ]
  },
  {
   "cell_type": "code",
   "execution_count": 62,
   "metadata": {},
   "outputs": [
    {
     "data": {
      "text/plain": [
       "TextBlob(\"\n",
       "Sentiment analysis is the interpretation and classification of emotions (positive, negative and neutral) within text \n",
       "data using text analysis techniques. Sentiment analysis allows \n",
       "businesses to identify customer sentiment toward products, brands or services in online conversations and feedback.\n",
       "\")"
      ]
     },
     "execution_count": 62,
     "metadata": {},
     "output_type": "execute_result"
    }
   ],
   "source": [
    "blob                                            #displaying a text blob"
   ]
  },
  {
   "cell_type": "code",
   "execution_count": 73,
   "metadata": {},
   "outputs": [
    {
     "data": {
      "text/plain": [
       "[Sentence(\"\n",
       " Sentiment analysis is the interpretation and classification of emotions (positive, negative and neutral) within text \n",
       " data using text analysis techniques.\"),\n",
       " Sentence(\"Sentiment analysis allows \n",
       " businesses to identify customer sentiment toward products, brands or services in online conversations and feedback.\")]"
      ]
     },
     "execution_count": 73,
     "metadata": {},
     "output_type": "execute_result"
    }
   ],
   "source": [
    "blob.sentences                                #get sentences in a text blob"
   ]
  },
  {
   "cell_type": "code",
   "execution_count": 63,
   "metadata": {},
   "outputs": [
    {
     "data": {
      "text/plain": [
       "WordList(['Sentiment', 'analysis', 'is', 'the', 'interpretation', 'and', 'classification', 'of', 'emotions', 'positive', 'negative', 'and', 'neutral', 'within', 'text', 'data', 'using', 'text', 'analysis', 'techniques', 'Sentiment', 'analysis', 'allows', 'businesses', 'to', 'identify', 'customer', 'sentiment', 'toward', 'products', 'brands', 'or', 'services', 'in', 'online', 'conversations', 'and', 'feedback'])"
      ]
     },
     "execution_count": 63,
     "metadata": {},
     "output_type": "execute_result"
    }
   ],
   "source": [
    "blob.words                                   #tockenization of the sentence "
   ]
  },
  {
   "cell_type": "code",
   "execution_count": 65,
   "metadata": {},
   "outputs": [
    {
     "data": {
      "text/plain": [
       "[('Sentiment', 'NN'),\n",
       " ('analysis', 'NN'),\n",
       " ('is', 'VBZ'),\n",
       " ('the', 'DT'),\n",
       " ('interpretation', 'NN'),\n",
       " ('and', 'CC'),\n",
       " ('classification', 'NN'),\n",
       " ('of', 'IN'),\n",
       " ('emotions', 'NNS'),\n",
       " ('positive', 'JJ'),\n",
       " ('negative', 'JJ'),\n",
       " ('and', 'CC'),\n",
       " ('neutral', 'JJ'),\n",
       " ('within', 'IN'),\n",
       " ('text', 'NN'),\n",
       " ('data', 'NNS'),\n",
       " ('using', 'VBG'),\n",
       " ('text', 'JJ'),\n",
       " ('analysis', 'NN'),\n",
       " ('techniques', 'NNS'),\n",
       " ('Sentiment', 'NN'),\n",
       " ('analysis', 'NN'),\n",
       " ('allows', 'VBZ'),\n",
       " ('businesses', 'NNS'),\n",
       " ('to', 'TO'),\n",
       " ('identify', 'VB'),\n",
       " ('customer', 'NN'),\n",
       " ('sentiment', 'NN'),\n",
       " ('toward', 'IN'),\n",
       " ('products', 'NNS'),\n",
       " ('brands', 'NNS'),\n",
       " ('or', 'CC'),\n",
       " ('services', 'NNS'),\n",
       " ('in', 'IN'),\n",
       " ('online', 'JJ'),\n",
       " ('conversations', 'NNS'),\n",
       " ('and', 'CC'),\n",
       " ('feedback', 'NN')]"
      ]
     },
     "execution_count": 65,
     "metadata": {},
     "output_type": "execute_result"
    }
   ],
   "source": [
    "blob.tags                                   #getting the part of speech tagging on the tockenized words  "
   ]
  },
  {
   "cell_type": "code",
   "execution_count": 66,
   "metadata": {},
   "outputs": [
    {
     "data": {
      "text/plain": [
       "WordList(['sentiment', 'text data', 'text analysis techniques', 'sentiment', 'identify customer sentiment', 'online conversations'])"
      ]
     },
     "execution_count": 66,
     "metadata": {},
     "output_type": "execute_result"
    }
   ],
   "source": [
    "blob.noun_phrases                                  #getting noun phrases "
   ]
  },
  {
   "cell_type": "markdown",
   "metadata": {},
   "source": [
    "## Sentiment analysis"
   ]
  },
  {
   "cell_type": "markdown",
   "metadata": {},
   "source": [
    "### The polarity score is a float within the range [-1.0, 1.0]. The subjectivity is a float within the range [0.0, 1.0] where 0.0 is very objective and 1.0 is very subjective."
   ]
  },
  {
   "cell_type": "code",
   "execution_count": 69,
   "metadata": {},
   "outputs": [
    {
     "data": {
      "text/plain": [
       "Sentiment(polarity=0.875, subjectivity=0.6000000000000001)"
      ]
     },
     "execution_count": 69,
     "metadata": {},
     "output_type": "execute_result"
    }
   ],
   "source": [
    "sentence = TextBlob(\"This is really good !\")         #create a text blob and use the function sentiment of sentiment analysis \n",
    "sentence.sentiment"
   ]
  },
  {
   "cell_type": "code",
   "execution_count": 78,
   "metadata": {},
   "outputs": [
    {
     "data": {
      "text/plain": [
       "TextBlob(\"Esto es realmente bueno !\")"
      ]
     },
     "execution_count": 78,
     "metadata": {},
     "output_type": "execute_result"
    }
   ],
   "source": [
    "#transalate sentence to spanish using language translator \n",
    "\n",
    "sentence.translate(to=\"es\")"
   ]
  },
  {
   "cell_type": "code",
   "execution_count": 77,
   "metadata": {},
   "outputs": [
    {
     "data": {
      "text/plain": [
       "2"
      ]
     },
     "execution_count": 77,
     "metadata": {},
     "output_type": "execute_result"
    }
   ],
   "source": [
    "#Get Word and Noun Phrase Frequencies¶\n",
    "monty = TextBlob(\"This is beautiful and you are looking beautiful too\")\n",
    "monty.word_counts['beautiful']"
   ]
  },
  {
   "cell_type": "code",
   "execution_count": 19,
   "metadata": {},
   "outputs": [
    {
     "data": {
      "text/plain": [
       "'radi'"
      ]
     },
     "execution_count": 19,
     "metadata": {},
     "output_type": "execute_result"
    }
   ],
   "source": [
    "from textblob import Word\n",
    "w = Word(\"radi\")\n",
    "w.lemmatize()"
   ]
  },
  {
   "cell_type": "code",
   "execution_count": 79,
   "metadata": {},
   "outputs": [
    {
     "name": "stdout",
     "output_type": "stream",
     "text": [
      "you are a brilliant person!\n"
     ]
    }
   ],
   "source": [
    "#text correction function\n",
    "b = TextBlob(\"youa aree a bryilliant pesron!\")\n",
    "print(b.correct())"
   ]
  },
  {
   "cell_type": "code",
   "execution_count": 83,
   "metadata": {},
   "outputs": [
    {
     "data": {
      "text/plain": [
       "[('able', 0.5140664961636828),\n",
       " ('pale', 0.4219948849104859),\n",
       " ('apple', 0.028132992327365727),\n",
       " ('ample', 0.023017902813299233),\n",
       " ('ape', 0.010230179028132993),\n",
       " ('ale', 0.0025575447570332483)]"
      ]
     },
     "execution_count": 83,
     "metadata": {},
     "output_type": "execute_result"
    }
   ],
   "source": [
    "#spelling checker which give probabilities \n",
    "from textblob import Word\n",
    "w = Word('aple')\n",
    "w.spellcheck()"
   ]
  },
  {
   "cell_type": "code",
   "execution_count": 86,
   "metadata": {},
   "outputs": [],
   "source": [
    "#declaring a string \n",
    "str=TextBlob(\"Hello\")"
   ]
  },
  {
   "cell_type": "code",
   "execution_count": 87,
   "metadata": {},
   "outputs": [
    {
     "data": {
      "text/plain": [
       "TextBlob(\"HELLO\")"
      ]
     },
     "execution_count": 87,
     "metadata": {},
     "output_type": "execute_result"
    }
   ],
   "source": [
    "#convert string into lower case\n",
    "str.upper()"
   ]
  },
  {
   "cell_type": "code",
   "execution_count": 88,
   "metadata": {},
   "outputs": [
    {
     "data": {
      "text/plain": [
       "TextBlob(\"hello\")"
      ]
     },
     "execution_count": 88,
     "metadata": {},
     "output_type": "execute_result"
    }
   ],
   "source": [
    "str.lower()"
   ]
  },
  {
   "cell_type": "code",
   "execution_count": 92,
   "metadata": {},
   "outputs": [
    {
     "data": {
      "text/plain": [
       "[WordList(['Now', 'is']),\n",
       " WordList(['is', 'better']),\n",
       " WordList(['better', 'than']),\n",
       " WordList(['than', 'never']),\n",
       " WordList(['never', 'We']),\n",
       " WordList(['We', 'are']),\n",
       " WordList(['are', 'even']),\n",
       " WordList(['even', 'Good']),\n",
       " WordList(['Good', 'night'])]"
      ]
     },
     "execution_count": 92,
     "metadata": {},
     "output_type": "execute_result"
    }
   ],
   "source": [
    "#getting ngrams for n=2\n",
    "blob = TextBlob(\"Now is better than never. We are even. Good night\")\n",
    "blob.ngrams(n=2)"
   ]
  },
  {
   "cell_type": "code",
   "execution_count": 90,
   "metadata": {},
   "outputs": [
    {
     "data": {
      "text/plain": [
       "Sentiment(classification='pos', p_pos=0.6587824480260261, p_neg=0.34121755197397396)"
      ]
     },
     "execution_count": 90,
     "metadata": {},
     "output_type": "execute_result"
    }
   ],
   "source": [
    "#using classifier to predict the sentiment of class\n",
    "from textblob import TextBlob\n",
    "from textblob.sentiments import NaiveBayesAnalyzer\n",
    "opinion = TextBlob(\"This is a beautiful place\", analyzer=NaiveBayesAnalyzer())\n",
    "opinion.sentiment"
   ]
  },
  {
   "cell_type": "markdown",
   "metadata": {},
   "source": [
    "# Pluralization of word"
   ]
  },
  {
   "cell_type": "code",
   "execution_count": 91,
   "metadata": {},
   "outputs": [
    {
     "name": "stdout",
     "output_type": "stream",
     "text": [
      "personalities\n"
     ]
    }
   ],
   "source": [
    "#Pluralization of a word\n",
    "from textblob import Word\n",
    "w = Word(\"personality\")\n",
    "print (w.pluralize())"
   ]
  },
  {
   "cell_type": "markdown",
   "metadata": {},
   "source": [
    "#  BUILIDING A TEXT CLASSIFIER"
   ]
  },
  {
   "cell_type": "code",
   "execution_count": 112,
   "metadata": {},
   "outputs": [],
   "source": [
    "    train = [                                                                        #train data\n",
    "     ('I love this sandwich.', 'pos'),\n",
    "     ('this is an amazing place!', 'pos'),\n",
    "     ('I feel very good about these beers.', 'pos'),\n",
    "     ('this is my best work.', 'pos'),\n",
    "     (\"what an awesome view\", 'pos'),\n",
    "     ('I do not like this restaurant', 'neg'),\n",
    "     ('I am tired of this stuff.', 'neg'),\n",
    "     (\"I can't deal with this\", 'neg'),\n",
    "     ('he is my sworn enemy!', 'neg'),\n",
    "     ('my boss is horrible.', 'neg')\n",
    " ]\n",
    "    "
   ]
  },
  {
   "cell_type": "code",
   "execution_count": 113,
   "metadata": {},
   "outputs": [],
   "source": [
    "test = [                                                                  #test data\n",
    "     ('the beer was good.', 'pos'),\n",
    "     ('I do not enjoy my job', 'neg'),\n",
    "     (\"I ain't feeling dandy today.\", 'neg'),\n",
    "     (\"I feel amazing!\", 'pos'),\n",
    "     ('Gary is a friend of mine.', 'pos'),\n",
    "     (\"I can't believe I'm doing this.\", 'neg')\n",
    " ]"
   ]
  },
  {
   "cell_type": "code",
   "execution_count": 99,
   "metadata": {},
   "outputs": [],
   "source": [
    "from textblob.classifiers import NaiveBayesClassifier               #classifier naive bayes\n",
    "cl = NaiveBayesClassifier(train)"
   ]
  },
  {
   "cell_type": "code",
   "execution_count": 106,
   "metadata": {},
   "outputs": [
    {
     "data": {
      "text/plain": [
       "'neg'"
      ]
     },
     "execution_count": 106,
     "metadata": {},
     "output_type": "execute_result"
    }
   ],
   "source": [
    "cl.classify(\"This is horrible\")                                     #predicting the sentiment"
   ]
  },
  {
   "cell_type": "code",
   "execution_count": 114,
   "metadata": {},
   "outputs": [
    {
     "data": {
      "text/plain": [
       "0.8333333333333334"
      ]
     },
     "execution_count": 114,
     "metadata": {},
     "output_type": "execute_result"
    }
   ],
   "source": [
    "cl.accuracy(test)                                                  #getting accuracy on test set"
   ]
  },
  {
   "cell_type": "markdown",
   "metadata": {},
   "source": [
    "# # Lemmitize"
   ]
  },
  {
   "cell_type": "code",
   "execution_count": 115,
   "metadata": {},
   "outputs": [
    {
     "data": {
      "text/plain": [
       "'radi'"
      ]
     },
     "execution_count": 115,
     "metadata": {},
     "output_type": "execute_result"
    }
   ],
   "source": [
    "#lemmitizer\n",
    "from textblob import Word\n",
    "w = Word(\"radi\")\n",
    "w.lemmatize()"
   ]
  },
  {
   "cell_type": "code",
   "execution_count": 111,
   "metadata": {},
   "outputs": [
    {
     "data": {
      "text/plain": [
       "'go'"
      ]
     },
     "execution_count": 111,
     "metadata": {},
     "output_type": "execute_result"
    }
   ],
   "source": [
    "w = Word(\"going\")\n",
    "w.lemmatize(\"v\")  # Pass in WordNet part of speech (verb)"
   ]
  },
  {
   "cell_type": "code",
   "execution_count": null,
   "metadata": {},
   "outputs": [],
   "source": []
  }
 ],
 "metadata": {
  "kernelspec": {
   "display_name": "Python 3",
   "language": "python",
   "name": "python3"
  },
  "language_info": {
   "codemirror_mode": {
    "name": "ipython",
    "version": 3
   },
   "file_extension": ".py",
   "mimetype": "text/x-python",
   "name": "python",
   "nbconvert_exporter": "python",
   "pygments_lexer": "ipython3",
   "version": "3.7.7"
  }
 },
 "nbformat": 4,
 "nbformat_minor": 4
}
